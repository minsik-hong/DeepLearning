{
 "cells": [
  {
   "cell_type": "markdown",
   "id": "abc63ff8",
   "metadata": {},
   "source": [
    "# 밑바닥 부터 시작하는 딥러닝"
   ]
  },
  {
   "cell_type": "markdown",
   "id": "462799ac",
   "metadata": {},
   "source": [
    "## 목차\n",
    "```\n",
    "3.1 퍼셉트론에서 신경망으로 \n",
    "__3.1.1 신경망의 예 \n",
    "__3.1.2 퍼셉트론 복습 \n",
    "__3.1.3 활성화 함수의 등장 \n",
    "3.2 활성화 함수 \n",
    "__3.2.1 시그모이드 함수 \n",
    "__3.2.2 계단 함수 구현하기 \n",
    "__3.2.3 계단 함수의 그래프 \n",
    "__3.2.4 시그모이드 함수 구현하기 \n",
    "__3.2.5 시그모이드 함수와 계단 함수 비교 \n",
    "__3.2.6 비선형 함수 \n",
    "__3.2.7 ReLU 함수 \n",
    "3.3 다차원 배열의 계산 \n",
    "__3.3.1 다차원 배열 \n",
    "__3.3.2 행렬의 내적 \n",
    "__3.3.3 신경망의 내적 \n",
    "3.4 3층 신경망 구현하기 \n",
    "__3.4.1 표기법 설명 \n",
    "__3.4.2 각 층의 신호 전달 구현하기 \n",
    "__3.4.3 구현 정리 \n",
    "3.5 출력층 설계하기 \n",
    "__3.5.1 항등 함수와 소프트맥스 함수 구현하기 \n",
    "__3.5.2 소프트맥스 함수 구현 시 주의점 \n",
    "__3.5.3 소프트맥스 함수의 특징 \n",
    "__3.5.4 출력층의 뉴런 수 정하기\n",
    "3.6 손글씨 숫자 인식 \n",
    "__3.6.1 MNIST 데이터셋 \n",
    "__3.6.2 신경망의 추론 처리 \n",
    "__3.6.3 배치 처리 \n",
    "```\n",
    "---"
   ]
  },
  {
   "cell_type": "markdown",
   "id": "4817e918",
   "metadata": {},
   "source": [
    "# Chapter 3: 신경망\n",
    "\n",
    "- 퍼셉트론 issues\n",
    "    - 좋은 소식: 퍼셉트론으로 복잡한 함수도 표현할 수 있다.\n",
    "    - 나쁜 소식: 가중치를 설정하는 작업(원하는 결과를 출력하도록 가중치 값을 적절히 정하는 작업)은 여전히 사람이 수동으로 한다.\n",
    "\n",
    "- 신경망(해결)\n",
    "    - 신경망의 중요한 성질: 가중치 매개변수의 적절한 값을 데이터로부터 자동으로 학습하는 능력"
   ]
  },
  {
   "cell_type": "markdown",
   "id": "27cc0b4d",
   "metadata": {},
   "source": [
    "## 3.1 퍼셉트론에서 신경망으로"
   ]
  },
  {
   "cell_type": "markdown",
   "id": "88eeb6ae",
   "metadata": {},
   "source": [
    "### 3.1.1 신경망의 예"
   ]
  },
  {
   "cell_type": "markdown",
   "id": "76e6024d",
   "metadata": {},
   "source": [
    "- 입력층[0] / 은닉층[1] / 출력층[2]\n",
    "- '은닉'층의 뉴런은 사람 눈에는 보이지 않는다.\n",
    "\n",
    "    <img src = \"deep_learning_images/fig 3-1.png\" width = \"30%\" height = \"30%\" align=\"left\">  "
   ]
  },
  {
   "cell_type": "markdown",
   "id": "7fecf5d9",
   "metadata": {},
   "source": [
    "### 3.1.2 퍼셉트론 복습"
   ]
  },
  {
   "cell_type": "markdown",
   "id": "3fac46fd",
   "metadata": {},
   "source": [
    "- 편향: 뉴런이 얼마나 쉽게 활성화 되느냐\n",
    "- 가중치: 신호의 영향력 제어"
   ]
  },
  {
   "cell_type": "markdown",
   "id": "69f1f347",
   "metadata": {},
   "source": [
    "<img src = \"deep_learning_images/fig 3-2.png\" width = \"20%\" height = \"20%\" align=\"left\"> "
   ]
  },
  {
   "cell_type": "markdown",
   "id": "ea0c7bdd",
   "metadata": {},
   "source": [
    "<img src = \"deep_learning_images/e 3.1.png\" width = \"30%\" height = \"30%\" align=\"left\"> "
   ]
  },
  {
   "cell_type": "markdown",
   "id": "6ebf441d",
   "metadata": {},
   "source": [
    "<img src = \"deep_learning_images/fig 3-3.png\" width = \"20%\" height = \"20%\" align=\"left\"> "
   ]
  },
  {
   "cell_type": "markdown",
   "id": "5627023c",
   "metadata": {},
   "source": [
    "- 함수 h(x)로 표현"
   ]
  },
  {
   "cell_type": "markdown",
   "id": "469dc1c8",
   "metadata": {},
   "source": [
    "[식 3.2]<img src = \"deep_learning_images/e 3.2.png\" width = \"20%\" height = \"20%\" align=\"left\">"
   ]
  },
  {
   "cell_type": "markdown",
   "id": "ad8c61d0",
   "metadata": {},
   "source": [
    "<img src = \"deep_learning_images/e 3.3.png\" width = \"20%\" height = \"20%\" align=\"left\">"
   ]
  },
  {
   "cell_type": "markdown",
   "id": "370f9ec2",
   "metadata": {},
   "source": [
    "### 3.1.3 활성화 함수의 등장"
   ]
  },
  {
   "cell_type": "markdown",
   "id": "761f3821",
   "metadata": {},
   "source": [
    "- 활성화 함수(activation function)\n",
    "    - 입력 신호의 총합을 출력 신호로 변화하는 함수\n",
    "    - 입력 신호의 총합이 활성화를 일으키는지를 정하는 역할"
   ]
  },
  {
   "cell_type": "markdown",
   "id": "f33dc440",
   "metadata": {},
   "source": [
    "- 식 3.2를 다시 작성"
   ]
  },
  {
   "cell_type": "markdown",
   "id": "cc07d2bc",
   "metadata": {},
   "source": [
    "<img src = \"deep_learning_images/e 3.4.png\" width = \"20%\" height = \"20%\" align=\"left\">"
   ]
  },
  {
   "cell_type": "markdown",
   "id": "ae027621",
   "metadata": {},
   "source": [
    "<img src = \"deep_learning_images/e 3.5.png\" width = \"10%\" height = \"10%\" align=\"left\">"
   ]
  },
  {
   "cell_type": "markdown",
   "id": "6caea84c",
   "metadata": {},
   "source": [
    "<img src = \"deep_learning_images/fig 3-4.png\" width = \"30%\" height = \"30%\" align=\"left\"> "
   ]
  },
  {
   "cell_type": "markdown",
   "id": "169d1522",
   "metadata": {},
   "source": [
    "- a: 입력 신호의 총합\n",
    "- h(): 활성화 함수\n",
    "- y: 출력"
   ]
  },
  {
   "cell_type": "markdown",
   "id": "feb58ddd",
   "metadata": {},
   "source": [
    "## 3.2 활성화 함수\n",
    "\n",
    "- 계단 함수(step function): 임계값을 경계로 출력이 바뀌는 함수\n",
    "- \"퍼셉트론에서는 활성화 함수로 계단 함수를 이용한다.\"\n",
    "- 활성화 함수를 계단함수에서 다른 함수로 변경하는 것이 신경망의 세계로 나아가는 열쇠"
   ]
  },
  {
   "cell_type": "markdown",
   "id": "329e1441",
   "metadata": {},
   "source": [
    "### 3.2.1 시그모이드 함수"
   ]
  },
  {
   "cell_type": "markdown",
   "id": "9d24f089",
   "metadata": {},
   "source": [
    "- 시그모이드 함수(sigmoid function)\n",
    "\n",
    "<img src = \"deep_learning_images/e 3.6.png\" width = \"20%\" height = \"20%\" align=\"left\">"
   ]
  },
  {
   "cell_type": "markdown",
   "id": "b6b00b0d",
   "metadata": {},
   "source": [
    "### 3.2.2 계단 함수 구현하기"
   ]
  },
  {
   "cell_type": "code",
   "execution_count": 1,
   "id": "201dfcad",
   "metadata": {},
   "outputs": [],
   "source": [
    "# x는 실수(부동소수점)만 받아들임\n",
    "def step_function(x):\n",
    "    if x > 0:\n",
    "        return 1\n",
    "    else:\n",
    "        return 0"
   ]
  },
  {
   "cell_type": "code",
   "execution_count": 2,
   "id": "eecbb395",
   "metadata": {},
   "outputs": [],
   "source": [
    "# 넘파이 배열도 지원하도록 수정\n",
    "def step_function(x):\n",
    "    return np.array(x>0, dtype=int)"
   ]
  },
  {
   "cell_type": "code",
   "execution_count": 3,
   "id": "3a76472d",
   "metadata": {},
   "outputs": [
    {
     "data": {
      "text/plain": [
       "array([-1.,  1.,  2.])"
      ]
     },
     "execution_count": 3,
     "metadata": {},
     "output_type": "execute_result"
    }
   ],
   "source": [
    "import numpy as np\n",
    "x = np.array([-1.0, 1.0, 2.0])\n",
    "x"
   ]
  },
  {
   "cell_type": "code",
   "execution_count": 4,
   "id": "41a0d4e4",
   "metadata": {},
   "outputs": [
    {
     "data": {
      "text/plain": [
       "array([False,  True,  True])"
      ]
     },
     "execution_count": 4,
     "metadata": {},
     "output_type": "execute_result"
    }
   ],
   "source": [
    "y = x > 0\n",
    "y"
   ]
  },
  {
   "cell_type": "code",
   "execution_count": 5,
   "id": "541c1cee",
   "metadata": {},
   "outputs": [
    {
     "data": {
      "text/plain": [
       "array([0, 1, 1])"
      ]
     },
     "execution_count": 5,
     "metadata": {},
     "output_type": "execute_result"
    }
   ],
   "source": [
    "# bool을 int로 변환하면 True는 1로, False는 0으로 변환\n",
    "y = y.astype(int)\n",
    "y"
   ]
  },
  {
   "cell_type": "markdown",
   "id": "03533711",
   "metadata": {},
   "source": [
    "### 3.2.3 계단 함수의 그래프"
   ]
  },
  {
   "cell_type": "code",
   "execution_count": 6,
   "id": "270b8be1",
   "metadata": {},
   "outputs": [
    {
     "data": {
      "image/png": "[encoded data removed]",
      "text/plain": [
       "<Figure size 640x480 with 1 Axes>"
      ]
     },
     "metadata": {},
     "output_type": "display_data"
    }
   ],
   "source": [
    "import numpy as np\n",
    "import matplotlib.pylab as plt\n",
    "\n",
    "def step_function(x):\n",
    "    return np.array(x>0, dtype=int)\n",
    " \n",
    "x = np.arange(-5.0, 5.0, 0.1)\n",
    "y = step_function(x)\n",
    "plt.plot(x,y)\n",
    "plt.ylim(-0.1, 1.1) # y축의 범위 지정\n",
    "plt.show()"
   ]
  },
  {
   "cell_type": "markdown",
   "id": "d480ba8f",
   "metadata": {},
   "source": [
    "### 3.2.4 시그모이드 함수 구현하기"
   ]
  },
  {
   "cell_type": "code",
   "execution_count": 7,
   "id": "2bc16360",
   "metadata": {},
   "outputs": [],
   "source": [
    "def sigmoid(x):\n",
    "    return 1 / (1 + np.exp(-x))"
   ]
  },
  {
   "cell_type": "code",
   "execution_count": 8,
   "id": "1cbdb6ef",
   "metadata": {},
   "outputs": [
    {
     "data": {
      "text/plain": [
       "array([0.26894142, 0.73105858, 0.88079708])"
      ]
     },
     "execution_count": 8,
     "metadata": {},
     "output_type": "execute_result"
    }
   ],
   "source": [
    "# 넘파이의 브로드캐스트 -> 넘파이 배열도 훌륭히 처리 가능\n",
    "x = np.array([-1.0, 1.0, 2.0])\n",
    "sigmoid(x)"
   ]
  },
  {
   "cell_type": "code",
   "execution_count": 9,
   "id": "df179655",
   "metadata": {},
   "outputs": [
    {
     "name": "stdout",
     "output_type": "stream",
     "text": [
      "[2. 3. 4.]\n",
      "[1.         0.5        0.33333333]\n"
     ]
    }
   ],
   "source": [
    "# 스칼라 값과 넘파이의 배열의 각 원소간의 연산 -> 넘파이 배열로 결과 출력\n",
    "t = np.array([1.0, 2.0, 3.0])\n",
    "print(1.0+t)\n",
    "print(1.0/t)"
   ]
  },
  {
   "cell_type": "code",
   "execution_count": 10,
   "id": "93624142",
   "metadata": {},
   "outputs": [
    {
     "data": {
      "image/png": "[encoded data removed]",
      "text/plain": [
       "<Figure size 640x480 with 1 Axes>"
      ]
     },
     "metadata": {},
     "output_type": "display_data"
    }
   ],
   "source": [
    "# 시그모이드 함수의 그래프(S자 모양)\n",
    "x = np.arange(-5.0, 5.0, 0.1)\n",
    "y = sigmoid(x)\n",
    "plt.plot(x, y)\n",
    "plt.ylim(-0.1, 1.1)\n",
    "plt.show()"
   ]
  },
  {
   "cell_type": "markdown",
   "id": "bbf77dfb",
   "metadata": {},
   "source": [
    "### 3.2.5 시그모이드 함수와 계단 함수의 비교"
   ]
  },
  {
   "cell_type": "markdown",
   "id": "c4750655",
   "metadata": {},
   "source": [
    "<img src = \"deep_learning_images/fig 3-8.png\" width = \"40%\" height = \"40%\" align=\"left\">  "
   ]
  },
  {
   "cell_type": "markdown",
   "id": "855f22bb",
   "metadata": {},
   "source": [
    "1. '매끄러움'의 차이 -> 퍼셉트론(0 or 1), 신경망(연속적인 실수)\n",
    "2. 같은 모양 \n",
    "    - 입력이 작을 때 출력: 0에 가깝다(혹은 0)\n",
    "    - 입력이 클 때 출력: 1에 가깝다(혹은 1)\n",
    "    - 입력이 아무리 작거나 커도 출력은 0~1"
   ]
  },
  {
   "cell_type": "markdown",
   "id": "ed6df22d",
   "metadata": {},
   "source": [
    "### 3.2.6 비선형 함수"
   ]
  },
  {
   "cell_type": "markdown",
   "id": "f85a029e",
   "metadata": {},
   "source": [
    "- 계단 함수, 시그모이드 함수의 중요한 공통 특징: 비선형 함수\n",
    "    - 선형 함수: f(x) = ax+b, a와 b는 상수 -> 1개의 직선\n",
    "    - 비선형 함수: '선형이 아닌'함수. 즉, 직선 1개로는 그릴 수 없는 함수\n",
    "\n",
    "- 신경망에서는 활성화 함수로 비선형 함수를 사용해야 한다.\n",
    "    - 선형함수를 이용하면 신경망의 층을 깊게하는 의미X\n",
    "    - h(x)=cx -> y(x)=h(h(h(x))), h(x)=c*c*c*x 실은 y(x)=ax와 똑같은 식.. a=c^3\n",
    "    - 층을 쌓는 혜택을 얻고 싶다면 활성화 함수로는 반드시 비선형 함수를 사용해야 한다."
   ]
  },
  {
   "cell_type": "markdown",
   "id": "be6e2eba",
   "metadata": {},
   "source": [
    "### 3.2.7 ReLU 함수"
   ]
  },
  {
   "cell_type": "markdown",
   "id": "8d9cc78c",
   "metadata": {},
   "source": [
    "- ReLU(Rectified Linear Unit, 렐루)함수\n",
    "    - 시그모이드 함수는 신경망 분야에서 오래전 부터 이용, 최근에는 ReLU함수를 주로 이용\n",
    "    - 입력이 0을 넘으면 그 입력을 그대로 출력, 0 이하면 0을 출력"
   ]
  },
  {
   "cell_type": "markdown",
   "id": "952f6c2a",
   "metadata": {},
   "source": [
    "<img src = \"deep_learning_images/fig 3-9.png\" width = \"40%\" height = \"40%\" align=\"left\">  "
   ]
  },
  {
   "cell_type": "markdown",
   "id": "34d0b5c8",
   "metadata": {},
   "source": [
    "<img src = \"deep_learning_images/e 3.7.png\" width = \"20%\" height = \"20%\" align=\"left\">"
   ]
  },
  {
   "cell_type": "code",
   "execution_count": 11,
   "id": "5e4434ac",
   "metadata": {},
   "outputs": [],
   "source": [
    "#ReLU\n",
    "def relu(x):\n",
    "    return np.maximum(0, x) # 두 입력 중 큰 값을 선택 반환"
   ]
  },
  {
   "cell_type": "markdown",
   "id": "e6ecb08f",
   "metadata": {},
   "source": [
    "## 3.3 다차원 배열의 계산 "
   ]
  },
  {
   "cell_type": "markdown",
   "id": "38678030",
   "metadata": {},
   "source": [
    "### 3.3.1 다차원 배열"
   ]
  },
  {
   "cell_type": "code",
   "execution_count": 12,
   "id": "efbdcd76",
   "metadata": {},
   "outputs": [
    {
     "name": "stdout",
     "output_type": "stream",
     "text": [
      "[1 2 3 4]\n",
      "1\n",
      "(4,)\n",
      "4\n"
     ]
    }
   ],
   "source": [
    "import numpy as np\n",
    "\n",
    "# 1차원 배열\n",
    "A = np.array([1, 2, 3, 4])\n",
    "print(A)\n",
    "print(np.ndim(A)) # 배열의 차원수 np.ndim\n",
    "print(A.shape) # 배열의 형상 / 튜플로 반환 .shape\n",
    "print(A.shape[0])"
   ]
  },
  {
   "cell_type": "code",
   "execution_count": 13,
   "id": "3e7c122f",
   "metadata": {},
   "outputs": [
    {
     "name": "stdout",
     "output_type": "stream",
     "text": [
      "[[1 2]\n",
      " [3 4]\n",
      " [5 6]]\n",
      "2\n",
      "(3, 2)\n"
     ]
    }
   ],
   "source": [
    "# 2차원 배열\n",
    "B = np.array([[1,2], [3,4], [5,6]])\n",
    "print(B)\n",
    "print(np.ndim(B))\n",
    "print(B.shape)"
   ]
  },
  {
   "cell_type": "markdown",
   "id": "3a2f5ad8",
   "metadata": {},
   "source": [
    "### 3.3.2 행렬의 곱"
   ]
  },
  {
   "cell_type": "code",
   "execution_count": 14,
   "id": "8c52f109",
   "metadata": {},
   "outputs": [
    {
     "name": "stdout",
     "output_type": "stream",
     "text": [
      "(2, 3)\n",
      "(3, 2)\n",
      "[[22 28]\n",
      " [49 64]]\n"
     ]
    }
   ],
   "source": [
    "# 행렬 곱\n",
    "C = np.array([[1,2,3],[4,5,6]])\n",
    "print(C.shape)\n",
    "D = np.array([[1,2],[3,4],[5,6]])\n",
    "print(D.shape)\n",
    "print(np.dot(C,D)) # 두 행령의 곱 np.dot()"
   ]
  },
  {
   "cell_type": "markdown",
   "id": "e73f9bd1",
   "metadata": {},
   "source": [
    "### 3.3.3 신경망에서의 행렬 곱"
   ]
  },
  {
   "cell_type": "markdown",
   "id": "2a95d0ee",
   "metadata": {},
   "source": [
    "<img src = \"deep_learning_images/fig 3-14.png\" width = \"50%\" height = \"50%\" align=\"left\">  "
   ]
  },
  {
   "cell_type": "code",
   "execution_count": 15,
   "id": "702c255e",
   "metadata": {},
   "outputs": [
    {
     "name": "stdout",
     "output_type": "stream",
     "text": [
      "(2,)\n",
      "[[1 3 5]\n",
      " [2 4 6]]\n",
      "(2, 3)\n",
      "[ 5 11 17]\n"
     ]
    }
   ],
   "source": [
    "# 신경망에서 행렬 곱\n",
    "X = np.array([1,2])\n",
    "print(X.shape)\n",
    "W = np.array([[1,3,5],[2,4,6]])\n",
    "print(W)\n",
    "print(W.shape)\n",
    "Y = np.dot(X,W) # np.dot을 이용하여 단번에 Y계산\n",
    "print(Y)"
   ]
  },
  {
   "cell_type": "markdown",
   "id": "f8a99974",
   "metadata": {},
   "source": [
    "## 3.4 3층 신경망 구현하기"
   ]
  },
  {
   "cell_type": "markdown",
   "id": "e5cc99ee",
   "metadata": {},
   "source": [
    "- 입력층(0층): 2개\n",
    "- 첫 번째 은닉층(1층): 3개\n",
    "- 두 번째 은닉층(2층): 2개\n",
    "- 출력층(3층): 2개\n",
    "\n",
    "<img src = \"deep_learning_images/fig 3-15.png\" width = \"50%\" height = \"50%\" align=\"left\">  "
   ]
  },
  {
   "cell_type": "markdown",
   "id": "e361cbfb",
   "metadata": {},
   "source": [
    "### 3.4.1 표기법 설명"
   ]
  },
  {
   "cell_type": "markdown",
   "id": "cc2b124c",
   "metadata": {},
   "source": [
    "<img src = \"deep_learning_images/fig 3-16.png\" width = \"50%\" height = \"50%\" align=\"left\"> "
   ]
  },
  {
   "cell_type": "markdown",
   "id": "ee08d8c3",
   "metadata": {},
   "source": [
    "### 3.4.2 각 층의 신호 전달 구현하기"
   ]
  },
  {
   "cell_type": "markdown",
   "id": "45e53f55",
   "metadata": {},
   "source": [
    "- 입력층에서 1층으로 신호 전달\n",
    "\n",
    "    <img src = \"deep_learning_images/fig 3-17.png\" width = \"50%\" height = \"50%\" align=\"left\"> "
   ]
  },
  {
   "cell_type": "markdown",
   "id": "0bf1114c",
   "metadata": {},
   "source": [
    "<img src = \"deep_learning_images/e 3.8.png\" width = \"30%\" height = \"30%\" align=\"left\"> "
   ]
  },
  {
   "cell_type": "markdown",
   "id": "2b477450",
   "metadata": {},
   "source": [
    "<img src = \"deep_learning_images/e 3.9.png\" width = \"30%\" height = \"30%\" align=\"left\"> "
   ]
  },
  {
   "cell_type": "code",
   "execution_count": 16,
   "id": "e66f8417",
   "metadata": {},
   "outputs": [
    {
     "name": "stdout",
     "output_type": "stream",
     "text": [
      "(2, 3)\n",
      "(2,)\n",
      "(3,)\n",
      "[0.3 0.7 1.1]\n",
      "[0.57444252 0.66818777 0.75026011]\n"
     ]
    }
   ],
   "source": [
    "# 입력층에서 1층으로의 신호 전달\n",
    "X = np.array([1.0, 0.5])\n",
    "W1 = np.array([[0.1,0.3,0.5],[0.2,0.4,0.6]])\n",
    "B1 = np.array([0.1,0.2,0.3])\n",
    "\n",
    "print(W1.shape) # (2,3)\n",
    "print(X.shape) # (2,)\n",
    "print(B1.shape) # (3,)\n",
    "\n",
    "A1 = np.dot(X,W1) + B1\n",
    "\n",
    "Z1 = sigmoid(A1)\n",
    "\n",
    "print(A1)\n",
    "print(Z1)"
   ]
  },
  {
   "cell_type": "markdown",
   "id": "6b826f2f",
   "metadata": {},
   "source": [
    "- 입력층에서 1층으로의 신호 전달(활성화 함수의 처리)\n",
    "\n",
    "    <img src = \"deep_learning_images/fig 3-18.png\" width = \"50%\" height = \"50%\" align=\"left\"> "
   ]
  },
  {
   "cell_type": "code",
   "execution_count": 17,
   "id": "c42b5b06",
   "metadata": {},
   "outputs": [
    {
     "name": "stdout",
     "output_type": "stream",
     "text": [
      "(3,)\n",
      "(3, 2)\n",
      "(2,)\n"
     ]
    }
   ],
   "source": [
    "# 1층에서 2층으로의 신호 전달\n",
    "W2 = np.array([[0.1,0.4],[0.2,0.5],[0.3,0.6]])\n",
    "B2 = np.array([0.1,0.2])\n",
    "\n",
    "print(Z1.shape) # (3)\n",
    "print(W2.shape) # (3,2)\n",
    "print(B2.shape) # (2,)\n",
    "\n",
    "A2 = np.dot(Z1,W2) + B2\n",
    "Z2 = sigmoid(A2)"
   ]
  },
  {
   "cell_type": "markdown",
   "id": "9ff32b0d",
   "metadata": {},
   "source": [
    "- 1층에서 2층으로의 신호 전달(활성화 함수의 처리)\n",
    "\n",
    "    <img src = \"deep_learning_images/fig 3-19.png\" width = \"50%\" height = \"50%\" align=\"left\"> "
   ]
  },
  {
   "cell_type": "code",
   "execution_count": 18,
   "id": "318e70d2",
   "metadata": {},
   "outputs": [
    {
     "name": "stdout",
     "output_type": "stream",
     "text": [
      "[0.31682708 0.69627909]\n"
     ]
    }
   ],
   "source": [
    "# 2층에서 출력층으로의 신호 전달\n",
    "def identity_function(x): # 항등 함수 정의\n",
    "    return x\n",
    "\n",
    "W3 = np.array([[0.1,0.3],[0.2,0.4]])\n",
    "B3 = np.array([0.1,0.2])\n",
    "\n",
    "A3 = np.dot(Z2,W3) + B3\n",
    "Y = identity_function(A3) # Y = A3\n",
    "print(Y)"
   ]
  },
  {
   "cell_type": "markdown",
   "id": "27e41e1f",
   "metadata": {},
   "source": [
    "- 2층에서 출력층으로의 신호 전달(활성화 함수의 처리)\n",
    "\n",
    "    <img src = \"deep_learning_images/fig 3-20.png\" width = \"50%\" height = \"50%\" align=\"left\"> "
   ]
  },
  {
   "cell_type": "markdown",
   "id": "de94ec87",
   "metadata": {},
   "source": [
    "### 3.4.3 구현 정리"
   ]
  },
  {
   "cell_type": "code",
   "execution_count": 19,
   "id": "e5000e01",
   "metadata": {},
   "outputs": [
    {
     "name": "stdout",
     "output_type": "stream",
     "text": [
      "[0.31682708 0.69627909]\n"
     ]
    }
   ],
   "source": [
    "# 가중치, 편향 초기화\n",
    "def init_network():\n",
    "    network = {} # 딕셔너리\n",
    "    network['W1'] = np.array([[0.1, 0.3, 0.5], [0.2, 0.4, 0.6]])\n",
    "    network['b1'] = np.array([0.1, 0.2, 0.3])\n",
    "    network['W2'] = np.array([[0.1, 0.4], [0.2, 0.5], [0.3, 0.6]])\n",
    "    network['b2'] = np.array([0.1, 0.2])\n",
    "    network['W3'] = np.array([[0.1, 0.3], [0.2, 0.4]])\n",
    "    network['b3'] = np.array([0.1, 0.2])\n",
    "\n",
    "    return network\n",
    "\n",
    "# 입력신호->출력신호 변환, forward=순방향\n",
    "def forward(network, x):\n",
    "    W1, W2, W3 = network['W1'], network['W2'], network['W3']\n",
    "    b1, b2, b3 = network['b1'], network['b2'], network['b3']\n",
    "    \n",
    "    a1 = np.dot(x, W1) + b1\n",
    "    z1 = sigmoid(a1) # 활성화 함수: 시그모이드 함수\n",
    "    a2 = np.dot(z1, W2) + b2\n",
    "    z2 = sigmoid(a2) # 활성화 함수: 시그모이드 함수\n",
    "    a3 = np.dot(z2, W3) + b3\n",
    "    y = identity_function(a3) # 활성화 함수: 항등 함수\n",
    "\n",
    "    return y\n",
    "\n",
    "network = init_network()\n",
    "x = np.array([1.0, 0.5])\n",
    "y = forward(network, x)\n",
    "print(y) # [0.31682708 0.69627909]"
   ]
  },
  {
   "cell_type": "markdown",
   "id": "c8ba3b3b",
   "metadata": {},
   "source": [
    "## 3.5 출력층 설계하기"
   ]
  },
  {
   "cell_type": "markdown",
   "id": "f3488d20",
   "metadata": {},
   "source": [
    "- 신경망은 분류와 회귀 모두에 이용 가능\n",
    "- 일반적\n",
    "    - 회귀(regression): 항등함수\n",
    "    - 분류(classification): 소프트맥스 함수"
   ]
  },
  {
   "cell_type": "markdown",
   "id": "4fffadef",
   "metadata": {},
   "source": [
    "### 3.5.1 항등 함수와 소프트맥스 함수 구현하기 "
   ]
  },
  {
   "cell_type": "markdown",
   "id": "4be5d7ba",
   "metadata": {},
   "source": [
    "- 항등 함수(identity function): 입력을 그대로 출력\n",
    "    \n",
    "    <img src = \"deep_learning_images/fig 3-21.png\" width = \"30%\" height = \"30%\" align=\"left\"> "
   ]
  },
  {
   "cell_type": "markdown",
   "id": "a099d1ad",
   "metadata": {},
   "source": [
    "- 소프트맥스 함수(softmax function) \n",
    "    - n = 출력층의 뉴런 수\n",
    "    - y_k는 그 중 k번째 출력\n",
    "    \n",
    "    <img src = \"deep_learning_images/e 3.10.png\" width = \"30%\" height = \"30%\" align=\"left\"> \n",
    "    <img src = \"deep_learning_images/fig 3-22.png\" width = \"20%\" height = \"20%\" align=\"left\"> "
   ]
  },
  {
   "cell_type": "code",
   "execution_count": 20,
   "id": "ed46b265",
   "metadata": {},
   "outputs": [
    {
     "name": "stdout",
     "output_type": "stream",
     "text": [
      "[ 1.34985881 18.17414537 54.59815003]\n",
      "74.1221542101633\n",
      "[0.01821127 0.24519181 0.73659691]\n"
     ]
    }
   ],
   "source": [
    "a = np.array([0.3, 2.9, 4.0])\n",
    "\n",
    "exp_a = np.exp(a) # 지수 함수\n",
    "print(exp_a) # [ 1.34985881 18.17414537 54.59815003]\n",
    "\n",
    "sum_exp_a = np.sum(exp_a) # 지수 함수의 합\n",
    "print(sum_exp_a) # 74.1221542101633\n",
    "\n",
    "y = exp_a / sum_exp_a\n",
    "print(y) # [0.01821127 0.24519181 0.73659691]"
   ]
  },
  {
   "cell_type": "code",
   "execution_count": 21,
   "id": "f5a35cf4",
   "metadata": {},
   "outputs": [],
   "source": [
    "def softmax(a):\n",
    "    exp_a = np.exp(a)\n",
    "    sum_exp_a = np.sum(exp_a)\n",
    "    y = exp_a / sum_exp_a\n",
    "\n",
    "    return y"
   ]
  },
  {
   "cell_type": "markdown",
   "id": "ac7d76b1",
   "metadata": {},
   "source": [
    "### 3.5.2 소프트맥스 함수 구현 시 주의점"
   ]
  },
  {
   "cell_type": "markdown",
   "id": "9e7a63a3",
   "metadata": {},
   "source": [
    "- 오버플로 문제\n",
    "    - 지수 함수 사용 시 아주 큰 값. 수치 '불안정'\n",
    "- 소프트맥스의 지수 함수를 계산할 때 어떤 정수를 더해도 (혹은 빼도) 결과는 바뀌지 않는다.\n",
    "<br/>-> 오버플로를 막을 목적으로 입력 신호 중 최댓값을 이용하는 것이 일반적"
   ]
  },
  {
   "cell_type": "code",
   "execution_count": 22,
   "id": "5f44aee6",
   "metadata": {},
   "outputs": [
    {
     "name": "stdout",
     "output_type": "stream",
     "text": [
      "[nan nan nan]\n",
      "[  0 -10 -20]\n",
      "[9.99954600e-01 4.53978686e-05 2.06106005e-09]\n"
     ]
    },
    {
     "name": "stderr",
     "output_type": "stream",
     "text": [
      "/var/folders/fh/92pnl49s1hq6_p6b7rgz8y9c0000gn/T/ipykernel_91958/197272330.py:4: RuntimeWarning: overflow encountered in exp\n",
      "  print(np.exp(a) / np.sum(np.exp(a))) # [nan nan nan] 제대로 계산 X\n",
      "/var/folders/fh/92pnl49s1hq6_p6b7rgz8y9c0000gn/T/ipykernel_91958/197272330.py:4: RuntimeWarning: invalid value encountered in divide\n",
      "  print(np.exp(a) / np.sum(np.exp(a))) # [nan nan nan] 제대로 계산 X\n"
     ]
    }
   ],
   "source": [
    "# RuntimeWarning: overflow encountered in exp\n",
    "# RuntimeWarning: invalid value encountered in divide\n",
    "a = np.array([1010, 1000, 990])\n",
    "print(np.exp(a) / np.sum(np.exp(a))) # [nan nan nan] 제대로 계산 X\n",
    "\n",
    "c = np.max(a) # 최댓값 1010\n",
    "print(a-c) # [  0 -10 -20]\n",
    "\n",
    "print(np.exp(a-c) / np.sum(np.exp(a-c))) # [9.99954600e-01 4.53978686e-05 2.06106005e-09]"
   ]
  },
  {
   "cell_type": "code",
   "execution_count": 23,
   "id": "80d8b90f",
   "metadata": {},
   "outputs": [],
   "source": [
    "def softmax(a):\n",
    "    c = np.max(a)\n",
    "    exp_a = np.exp(a - c) # 오버플로 대책\n",
    "    sum_exp_a = np.sum(exp_a)\n",
    "    y = exp_a / sum_exp_a\n",
    "\n",
    "    return y"
   ]
  },
  {
   "cell_type": "markdown",
   "id": "e76be249",
   "metadata": {},
   "source": [
    "### 3.5.3 소프트맥스 함수의 특징"
   ]
  },
  {
   "cell_type": "code",
   "execution_count": 24,
   "id": "0cd0f5bb",
   "metadata": {},
   "outputs": [
    {
     "name": "stdout",
     "output_type": "stream",
     "text": [
      "[0.01821127 0.24519181 0.73659691]\n",
      "1.0\n"
     ]
    }
   ],
   "source": [
    "a = np.array([0.3, 2.9, 4.0])\n",
    "y = softmax(a)\n",
    "print(y) # 0.01821127 0.24519181 0.73659691]\n",
    "print(np.sum(y)) # 1.0"
   ]
  },
  {
   "cell_type": "markdown",
   "id": "129d7f96",
   "metadata": {},
   "source": [
    "- 출력은 0~1.0 사이의 실수\n",
    "- 출력의 총합 1 → ‘확률’로 해석가능\n",
    "- y[0] = 0.018(1.8%), y[1] = 0.245(24.5%), y[2] = 0.737(73.7%)\n",
    "<br/> -> 확률적(통계적)으로 대응 가능\n",
    "- 소프트맥스 함수를 적용해도 각 원소의 대소 관계는 변하지 않는다.\n",
    "<br/> -> 출력이 가장 큰 뉴런의 위치는 달라지지 않는다 -> 분류할 때 소프트맥스 함수를 생략 가능"
   ]
  },
  {
   "cell_type": "markdown",
   "id": "6177c092",
   "metadata": {},
   "source": [
    "> 기계학습 문제 풀이 학습과 추론(inference) 두 단계. 신경망을 학습시킬 때는 출력층에서 소프트 맥스 함수 사용. but 추론 단계에서는 출력층의 소프트맥스 함수를 생략하는 것이 일반적."
   ]
  },
  {
   "cell_type": "markdown",
   "id": "2d7584c0",
   "metadata": {},
   "source": [
    "### 3.5.4 출력층의 뉴런 수 정하기"
   ]
  },
  {
   "cell_type": "markdown",
   "id": "26fcc35a",
   "metadata": {},
   "source": [
    "- 출력층의 뉴런은 각 숫자에 대응한다.\n",
    "\n",
    "    <img src = \"deep_learning_images/fig 3-23.png\" width = \"50%\" height = \"50%\" align=\"left\"> "
   ]
  },
  {
   "cell_type": "markdown",
   "id": "6018c402",
   "metadata": {},
   "source": [
    "## 3.6 손글씨 숫자 인식"
   ]
  },
  {
   "cell_type": "markdown",
   "id": "4adbd8e8",
   "metadata": {},
   "source": [
    "- 이미 학습된 매개변수 사용, 학습 과정 생략, 추론 과정만 구현\n",
    "- 추론 과정: 신경망의 순전파(forward propagation)"
   ]
  },
  {
   "cell_type": "markdown",
   "id": "da1fb4e7",
   "metadata": {},
   "source": [
    "> 기계학습과 마찬가지로 신경망도 두 단계. 훈련 데이터(학습 데이터)를 사용해 가중치 매개변수 학습. 추론 단계에서는 앞서 학습한 매개변수를 사용하여 입력 데이터 분류"
   ]
  },
  {
   "cell_type": "markdown",
   "id": "4465f4d9",
   "metadata": {},
   "source": [
    "### 3.6.1 MNIST 데이터셋"
   ]
  },
  {
   "cell_type": "markdown",
   "id": "46a360bc",
   "metadata": {},
   "source": [
    "- 28x28크기 회색조 이미지(1채널)\n",
    "- 각 픽셀 값: 0~255\n",
    "- 각 이미지에 실제 의미 숫자 레이블 포함"
   ]
  },
  {
   "cell_type": "code",
   "execution_count": 25,
   "id": "707be1e6",
   "metadata": {},
   "outputs": [
    {
     "name": "stdout",
     "output_type": "stream",
     "text": [
      "(60000, 784)\n",
      "(60000,)\n",
      "(10000, 784)\n",
      "(10000,)\n"
     ]
    }
   ],
   "source": [
    "import sys, os\n",
    "sys.path.append(os.pardir)\n",
    "from dataset.mnist import load_mnist\n",
    "\n",
    "(x_train, t_train), (x_test, t_test) = \\\n",
    "    load_mnist(flatten=True, normalize=False)\n",
    "\n",
    "# 각 데이터의 형상 출력\n",
    "print(x_train.shape) # (60000, 784)\n",
    "print(t_train.shape) # (60000,)\n",
    "print(x_test.shape) # (10000, 784)\n",
    "print(t_test.shape) # (10000,)"
   ]
  },
  {
   "cell_type": "markdown",
   "id": "414fbce3",
   "metadata": {},
   "source": [
    "- load_mnist함수: 읽은 MNIST데이터를 \"(훈련 이미지, 훈련 레이블), (시험 이미지, 시험 레이블)\" 형식으로 변환\n",
    "- 인수(normalize, flatten, one_hot_label)\n",
    "    - normalize: 입력 이미지의 픽셀 값을 0.0 ~ 1.0 사이의 값으로 정규화할지 결정 (Flase: 원래값 0~255)\n",
    "    - flatten: 입력 이미지를 평탄하게, 1차원 배열로 만들지 결정. (False: 1x28x28, 3차원 / True: 784개 원소, 1차원)\n",
    "    - one_hot_label: one-hot encoding형태로 저장할지 결정. (False: '7', '2'숫자 형태 레이블 / True: 정답 원소만 1, 나머지 0인 배열)"
   ]
  },
  {
   "cell_type": "code",
   "execution_count": 26,
   "id": "15a871d6",
   "metadata": {},
   "outputs": [
    {
     "name": "stdout",
     "output_type": "stream",
     "text": [
      "5\n",
      "(784,)\n",
      "(28, 28)\n"
     ]
    }
   ],
   "source": [
    "import sys, os\n",
    "sys.path.append(os.pardir)\n",
    "import numpy as np\n",
    "from dataset.mnist import load_mnist\n",
    "from PIL import Image\n",
    "\n",
    "def img_show(img):\n",
    "    pil_img = Image.fromarray(np.uint8(img)) # PIL용 데이터 객체로 변환\n",
    "    pil_img.show()\n",
    "\n",
    "(x_train, t_train), (x_test, t_test) = \\\n",
    "    load_mnist(flatten=True, normalize=False) # flatten: True -> 1차원 넘파이 배열\n",
    "\n",
    "img = x_train[0]\n",
    "label = t_train[0]\n",
    "print(label) # 5\n",
    "\n",
    "print(img.shape) # (784,)\n",
    "img = img.reshape(28, 28) # 원래 이미지 모양으로 변형\n",
    "print(img.shape) # (28, 28)\n",
    "\n",
    "img_show(img)"
   ]
  },
  {
   "cell_type": "markdown",
   "id": "921b8d56",
   "metadata": {},
   "source": [
    "### 3.6.2 신경망의 추론 처리"
   ]
  },
  {
   "cell_type": "markdown",
   "id": "a2dd22aa",
   "metadata": {},
   "source": [
    "- 입력층 뉴런: 28x28(이미지 크기) = 784개\n",
    "- 출력층 뉴런: 10개(0~9)\n",
    "- 은닉층 총 2개\n",
    "    - 첫 번째 은닉층 50개 뉴런\n",
    "    - 두 번째 은닉층 100개 뉴런"
   ]
  },
  {
   "cell_type": "code",
   "execution_count": 27,
   "id": "dccce838",
   "metadata": {},
   "outputs": [],
   "source": [
    "def get_data():\n",
    "    (x_train, t_train), (x_test, t_test) = \\\n",
    "        load_mnist(flatten=True, normalize=True, one_hot_label=False) # 정규화/전처리\n",
    "    return x_test, t_test\n",
    "\n",
    "def init_network():\n",
    "    with open(\"ch03/sample_weight.pkl\", 'rb') as f:\n",
    "        network = pickle.load(f)\n",
    "    \n",
    "    return network\n",
    "\n",
    "def predict(network, x):\n",
    "    W1, W2, W3 = network['W1'], network['W2'], network['W3']\n",
    "    b1, b2, b3 = network['b1'], network['b2'], network['b3']\n",
    "    \n",
    "    a1 = np.dot(x, W1) + b1\n",
    "    z1 = sigmoid(a1)\n",
    "    a2 = np.dot(z1, W2) + b2\n",
    "    z2 = sigmoid(a2)\n",
    "    a3 = np.dot(z2, W3) + b3\n",
    "    y = softmax(a3)\n",
    "    return y\n",
    "\n",
    "x, t = get_data()\n",
    "network = init_network()\n",
    "\n",
    "accuracy_cnt = 0 # 정확도(분류가 얼마나 올바른가) 평가\n",
    "for i in range(len(x)):\n",
    "    y = predict(network, x[i])\n",
    "    p = np.argmax(y) # 확률이 가장 높은 원소의 인덱스를 얻는다\n",
    "    if p == t[i]:\n",
    "        accuracy_cnt += 1\n",
    "\n",
    "print(\"Accuracy \" + str(float(accuracy_cnt) / len(x))) # Accuracy 0.9352\n"
   ]
  },
  {
   "cell_type": "code",
   "execution_count": 28,
   "id": "abe25d8e",
   "metadata": {},
   "outputs": [
    {
     "ename": "FileNotFoundError",
     "evalue": "[Errno 2] No such file or directory: 'ch03/sample_weight.pkl'",
     "output_type": "error",
     "traceback": [
      "\u001b[0;31m---------------------------------------------------------------------------\u001b[0m",
      "\u001b[0;31mFileNotFoundError\u001b[0m                         Traceback (most recent call last)",
      "Cell \u001b[0;32mIn[28], line 2\u001b[0m\n\u001b[1;32m      1\u001b[0m x, t \u001b[38;5;241m=\u001b[39m get_data()\n\u001b[0;32m----> 2\u001b[0m network \u001b[38;5;241m=\u001b[39m \u001b[43minit_network\u001b[49m\u001b[43m(\u001b[49m\u001b[43m)\u001b[49m\n\u001b[1;32m      4\u001b[0m accuracy_cnt \u001b[38;5;241m=\u001b[39m \u001b[38;5;241m0\u001b[39m \u001b[38;5;66;03m# 정확도(분류가 얼마나 올바른가) 평가\u001b[39;00m\n\u001b[1;32m      5\u001b[0m \u001b[38;5;28;01mfor\u001b[39;00m i \u001b[38;5;129;01min\u001b[39;00m \u001b[38;5;28mrange\u001b[39m(\u001b[38;5;28mlen\u001b[39m(x)):\n",
      "Cell \u001b[0;32mIn[27], line 7\u001b[0m, in \u001b[0;36minit_network\u001b[0;34m()\u001b[0m\n\u001b[1;32m      6\u001b[0m \u001b[38;5;28;01mdef\u001b[39;00m \u001b[38;5;21minit_network\u001b[39m():\n\u001b[0;32m----> 7\u001b[0m     \u001b[38;5;28;01mwith\u001b[39;00m \u001b[38;5;28;43mopen\u001b[39;49m\u001b[43m(\u001b[49m\u001b[38;5;124;43m\"\u001b[39;49m\u001b[38;5;124;43mch03/sample_weight.pkl\u001b[39;49m\u001b[38;5;124;43m\"\u001b[39;49m\u001b[43m,\u001b[49m\u001b[43m \u001b[49m\u001b[38;5;124;43m'\u001b[39;49m\u001b[38;5;124;43mrb\u001b[39;49m\u001b[38;5;124;43m'\u001b[39;49m\u001b[43m)\u001b[49m \u001b[38;5;28;01mas\u001b[39;00m f:\n\u001b[1;32m      8\u001b[0m         network \u001b[38;5;241m=\u001b[39m pickle\u001b[38;5;241m.\u001b[39mload(f)\n\u001b[1;32m     10\u001b[0m     \u001b[38;5;28;01mreturn\u001b[39;00m network\n",
      "File \u001b[0;32m~/anaconda3/lib/python3.10/site-packages/IPython/core/interactiveshell.py:286\u001b[0m, in \u001b[0;36m_modified_open\u001b[0;34m(file, *args, **kwargs)\u001b[0m\n\u001b[1;32m    279\u001b[0m \u001b[38;5;28;01mif\u001b[39;00m file \u001b[38;5;129;01min\u001b[39;00m {\u001b[38;5;241m0\u001b[39m, \u001b[38;5;241m1\u001b[39m, \u001b[38;5;241m2\u001b[39m}:\n\u001b[1;32m    280\u001b[0m     \u001b[38;5;28;01mraise\u001b[39;00m \u001b[38;5;167;01mValueError\u001b[39;00m(\n\u001b[1;32m    281\u001b[0m         \u001b[38;5;124mf\u001b[39m\u001b[38;5;124m\"\u001b[39m\u001b[38;5;124mIPython won\u001b[39m\u001b[38;5;124m'\u001b[39m\u001b[38;5;124mt let you open fd=\u001b[39m\u001b[38;5;132;01m{\u001b[39;00mfile\u001b[38;5;132;01m}\u001b[39;00m\u001b[38;5;124m by default \u001b[39m\u001b[38;5;124m\"\u001b[39m\n\u001b[1;32m    282\u001b[0m         \u001b[38;5;124m\"\u001b[39m\u001b[38;5;124mas it is likely to crash IPython. If you know what you are doing, \u001b[39m\u001b[38;5;124m\"\u001b[39m\n\u001b[1;32m    283\u001b[0m         \u001b[38;5;124m\"\u001b[39m\u001b[38;5;124myou can use builtins\u001b[39m\u001b[38;5;124m'\u001b[39m\u001b[38;5;124m open.\u001b[39m\u001b[38;5;124m\"\u001b[39m\n\u001b[1;32m    284\u001b[0m     )\n\u001b[0;32m--> 286\u001b[0m \u001b[38;5;28;01mreturn\u001b[39;00m \u001b[43mio_open\u001b[49m\u001b[43m(\u001b[49m\u001b[43mfile\u001b[49m\u001b[43m,\u001b[49m\u001b[43m \u001b[49m\u001b[38;5;241;43m*\u001b[39;49m\u001b[43margs\u001b[49m\u001b[43m,\u001b[49m\u001b[43m \u001b[49m\u001b[38;5;241;43m*\u001b[39;49m\u001b[38;5;241;43m*\u001b[39;49m\u001b[43mkwargs\u001b[49m\u001b[43m)\u001b[49m\n",
      "\u001b[0;31mFileNotFoundError\u001b[0m: [Errno 2] No such file or directory: 'ch03/sample_weight.pkl'"
     ]
    }
   ],
   "source": [
    "x, t = get_data()\n",
    "network = init_network()\n",
    "\n",
    "accuracy_cnt = 0 # 정확도(분류가 얼마나 올바른가) 평가\n",
    "for i in range(len(x)):\n",
    "    y = predict(network, x[i])\n",
    "    p = np.argmax(y) # 확률이 가장 높은 원소의 인덱스를 얻는다\n",
    "    if p == t[i]:\n",
    "        accuracy_cnt += 1\n",
    "\n",
    "print(\"Accuracy \" + str(float(accuracy_cnt) / len(x))) # Accuracy 0.9352\n"
   ]
  },
  {
   "cell_type": "code",
   "execution_count": null,
   "id": "967d2fed",
   "metadata": {},
   "outputs": [],
   "source": []
  }
 ],
 "metadata": {
  "kernelspec": {
   "display_name": "Python 3 (ipykernel)",
   "language": "python",
   "name": "python3"
  },
  "language_info": {
   "codemirror_mode": {
    "name": "ipython",
    "version": 3
   },
   "file_extension": ".py",
   "mimetype": "text/x-python",
   "name": "python",
   "nbconvert_exporter": "python",
   "pygments_lexer": "ipython3",
   "version": "3.10.13"
  }
 },
 "nbformat": 4,
 "nbformat_minor": 5
}
