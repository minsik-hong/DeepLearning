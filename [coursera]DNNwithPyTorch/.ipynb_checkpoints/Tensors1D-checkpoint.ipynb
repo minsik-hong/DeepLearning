{
 "cells": [
  {
   "cell_type": "markdown",
   "id": "e2bf3a16",
   "metadata": {},
   "source": [
    "## Objectives\n",
    "\n",
    "- Data types\n",
    "- Indexing and Slicing\n",
    "- Basic Operations\n",
    "- Universal Functions"
   ]
  },
  {
   "cell_type": "markdown",
   "id": "0934a237",
   "metadata": {},
   "source": [
    "### Data types"
   ]
  },
  {
   "cell_type": "code",
   "execution_count": 21,
   "id": "0637a934",
   "metadata": {},
   "outputs": [
    {
     "name": "stdout",
     "output_type": "stream",
     "text": [
      "tensor([7, 4, 3, 2, 6])\n",
      "torch.int64\n",
      "torch.LongTensor\n",
      "torch.Size([5])\n",
      "1\n"
     ]
    }
   ],
   "source": [
    "import torch\n",
    "\n",
    "a = torch.tensor([7,4,3,2,6])\n",
    "print(a)\n",
    "print(a.dtype)\n",
    "print(a.type())\n",
    "print(a.size())\n",
    "print(a.ndimension())"
   ]
  },
  {
   "cell_type": "code",
   "execution_count": 10,
   "id": "46e6a934",
   "metadata": {},
   "outputs": [
    {
     "name": "stdout",
     "output_type": "stream",
     "text": [
      "tensor([0., 1., 2., 3., 4.])\n",
      "torch.float32\n",
      "torch.FloatTensor\n"
     ]
    }
   ],
   "source": [
    "a = torch.tensor([0.0,1.0,2.0,3.0,4.0])\n",
    "print(a)\n",
    "print(a.dtype)\n",
    "print(a.type())"
   ]
  },
  {
   "cell_type": "code",
   "execution_count": 16,
   "id": "f24ac6ba",
   "metadata": {},
   "outputs": [
    {
     "name": "stdout",
     "output_type": "stream",
     "text": [
      "tensor([0, 1, 2, 3, 4], dtype=torch.int32)\n",
      "torch.int32\n"
     ]
    }
   ],
   "source": [
    "a = torch.tensor([0.0,1.0,2.0,3.0,4.0], dtype=torch.int32)\n",
    "print(a)\n",
    "print(a.dtype)"
   ]
  },
  {
   "cell_type": "code",
   "execution_count": 17,
   "id": "17941c97",
   "metadata": {},
   "outputs": [
    {
     "name": "stdout",
     "output_type": "stream",
     "text": [
      "tensor([4., 1., 2., 3., 4.])\n",
      "torch.float32\n"
     ]
    }
   ],
   "source": [
    "a = torch.tensor([4.0,1.0,2.0,3.0,4])\n",
    "print(a)\n",
    "print(a.dtype)"
   ]
  },
  {
   "cell_type": "code",
   "execution_count": 18,
   "id": "164afcc2",
   "metadata": {},
   "outputs": [
    {
     "name": "stdout",
     "output_type": "stream",
     "text": [
      "tensor([0., 1., 2., 3., 4.])\n",
      "torch.float32\n",
      "torch.FloatTensor\n"
     ]
    }
   ],
   "source": [
    "a = torch.FloatTensor([0,1,2,3,4])\n",
    "print(a)\n",
    "print(a.dtype)\n",
    "print(a.type())"
   ]
  },
  {
   "cell_type": "code",
   "execution_count": 19,
   "id": "61156055",
   "metadata": {},
   "outputs": [
    {
     "name": "stdout",
     "output_type": "stream",
     "text": [
      "tensor([0., 1., 2., 3., 4.])\n",
      "torch.float32\n",
      "torch.FloatTensor\n"
     ]
    }
   ],
   "source": [
    "a = torch.tensor([0,1,2,3,4])\n",
    "a = a.type(torch.FloatTensor)\n",
    "\n",
    "print(a)\n",
    "print(a.dtype)\n",
    "print(a.type())"
   ]
  },
  {
   "cell_type": "code",
   "execution_count": 20,
   "id": "4d9852f5",
   "metadata": {},
   "outputs": [
    {
     "data": {
      "text/plain": [
       "torch.float32"
      ]
     },
     "execution_count": 20,
     "metadata": {},
     "output_type": "execute_result"
    }
   ],
   "source": [
    "a = torch.tensor([4, 1, 2, 3, 4])\n",
    "b=a.type(torch.float32)\n",
    "b.dtype"
   ]
  },
  {
   "cell_type": "code",
   "execution_count": 25,
   "id": "13b9891c",
   "metadata": {},
   "outputs": [
    {
     "name": "stdout",
     "output_type": "stream",
     "text": [
      "tensor([[0],\n",
      "        [1],\n",
      "        [2],\n",
      "        [3],\n",
      "        [4],\n",
      "        [5]])\n"
     ]
    }
   ],
   "source": [
    "a = torch.tensor([0,1, 2, 3, 4, 5])\n",
    "\n",
    "a_col = a.view(6,1)\n",
    "print(a_col)"
   ]
  },
  {
   "cell_type": "code",
   "execution_count": 27,
   "id": "371c2a51",
   "metadata": {},
   "outputs": [
    {
     "name": "stdout",
     "output_type": "stream",
     "text": [
      "tensor([[0],\n",
      "        [1],\n",
      "        [2],\n",
      "        [3],\n",
      "        [4],\n",
      "        [5]])\n"
     ]
    }
   ],
   "source": [
    "a_col = a.view(-1,1)\n",
    "print(a_col)"
   ]
  },
  {
   "cell_type": "code",
   "execution_count": 30,
   "id": "a3bc3d34",
   "metadata": {},
   "outputs": [],
   "source": [
    "import numpy as np\n",
    "\n",
    "np_array = np.array([0.0,1.0,2.0,3.0,4.0])\n",
    "torch_tensor = torch.from_numpy(np_array)\n",
    "back_to_np = torch_tensor.numpy()"
   ]
  },
  {
   "cell_type": "code",
   "execution_count": 32,
   "id": "d8c08b77",
   "metadata": {},
   "outputs": [],
   "source": [
    "import pandas as pd\n",
    "\n",
    "pandas_series = pd.Series([0.1, 2, 0.3, 10.1])\n",
    "pandas_to_torch = torch.from_numpy(pandas_series.values)"
   ]
  },
  {
   "cell_type": "code",
   "execution_count": 46,
   "id": "06a34166",
   "metadata": {},
   "outputs": [
    {
     "name": "stdout",
     "output_type": "stream",
     "text": [
      "tensor(5)\n",
      "tensor(2)\n",
      "5\n",
      "2\n"
     ]
    }
   ],
   "source": [
    "new_tensor = torch.tensor([5, 2, 6, 1])\n",
    "print(new_tensor[0])\n",
    "print(new_tensor[1])\n",
    "\n",
    "print(new_tensor[0].item())\n",
    "print(new_tensor[1].item())"
   ]
  },
  {
   "cell_type": "markdown",
   "id": "c4c4139a",
   "metadata": {},
   "source": [
    "### Indexing and Slicing"
   ]
  },
  {
   "cell_type": "code",
   "execution_count": 47,
   "id": "26e20757",
   "metadata": {},
   "outputs": [
    {
     "name": "stdout",
     "output_type": "stream",
     "text": [
      "tensor([20,  1,  2,  3,  4])\n"
     ]
    }
   ],
   "source": [
    "c = torch.tensor([20, 1, 2, 3, 4])\n",
    "print(c)"
   ]
  },
  {
   "cell_type": "code",
   "execution_count": 50,
   "id": "63d16206",
   "metadata": {},
   "outputs": [
    {
     "name": "stdout",
     "output_type": "stream",
     "text": [
      "tensor([100,   1,   2,   3,   4])\n"
     ]
    }
   ],
   "source": [
    "c[0] = 100\n",
    "print(c)"
   ]
  },
  {
   "cell_type": "code",
   "execution_count": 51,
   "id": "d569a650",
   "metadata": {},
   "outputs": [
    {
     "name": "stdout",
     "output_type": "stream",
     "text": [
      "tensor([100,   1,   2,   3,   0])\n"
     ]
    }
   ],
   "source": [
    "c[4] = 0\n",
    "print(c)"
   ]
  },
  {
   "cell_type": "code",
   "execution_count": 53,
   "id": "712066d2",
   "metadata": {},
   "outputs": [
    {
     "name": "stdout",
     "output_type": "stream",
     "text": [
      "tensor([1, 2, 3])\n"
     ]
    }
   ],
   "source": [
    "d = c[1:4]\n",
    "print(d)"
   ]
  },
  {
   "cell_type": "code",
   "execution_count": 55,
   "id": "2917a244",
   "metadata": {},
   "outputs": [
    {
     "name": "stdout",
     "output_type": "stream",
     "text": [
      "tensor([100,   1,   2, 300, 400])\n"
     ]
    }
   ],
   "source": [
    "c[3:5] = torch.tensor([300.0, 400.0])\n",
    "print(c)"
   ]
  },
  {
   "cell_type": "markdown",
   "id": "7adac8dc",
   "metadata": {},
   "source": [
    "### Basic Operations"
   ]
  },
  {
   "cell_type": "code",
   "execution_count": 57,
   "id": "08a6859b",
   "metadata": {},
   "outputs": [
    {
     "name": "stdout",
     "output_type": "stream",
     "text": [
      "tensor([1., 1.])\n"
     ]
    }
   ],
   "source": [
    "# vector addition and subtraction\n",
    "u = torch.tensor([1.0, 0.0])\n",
    "v = torch.tensor([0.0, 1.0])\n",
    "z = u + v\n",
    "\n",
    "print(z)"
   ]
  },
  {
   "cell_type": "code",
   "execution_count": 58,
   "id": "35bd2e27",
   "metadata": {},
   "outputs": [
    {
     "name": "stdout",
     "output_type": "stream",
     "text": [
      "tensor([2, 4])\n"
     ]
    }
   ],
   "source": [
    "# vector multiplication with a scalar\n",
    "y = torch.tensor([1,2])\n",
    "z = 2*y\n",
    "\n",
    "print(z)"
   ]
  },
  {
   "cell_type": "code",
   "execution_count": 59,
   "id": "2266e45d",
   "metadata": {},
   "outputs": [
    {
     "name": "stdout",
     "output_type": "stream",
     "text": [
      "tensor([3, 4])\n"
     ]
    }
   ],
   "source": [
    "# product of two tensors\n",
    "u = torch.tensor([1,2])\n",
    "v = torch.tensor([3,2])\n",
    "\n",
    "z = u*v\n",
    "print(z)"
   ]
  },
  {
   "cell_type": "code",
   "execution_count": 61,
   "id": "9f4ff489",
   "metadata": {},
   "outputs": [
    {
     "name": "stdout",
     "output_type": "stream",
     "text": [
      "tensor(5)\n"
     ]
    }
   ],
   "source": [
    "# dot product\n",
    "\n",
    "u = torch.tensor([1,2])\n",
    "v = torch.tensor([3,1])\n",
    "\n",
    "result = torch.dot(u,v)\n",
    "print(result)"
   ]
  },
  {
   "cell_type": "code",
   "execution_count": 62,
   "id": "3f29adce",
   "metadata": {},
   "outputs": [
    {
     "name": "stdout",
     "output_type": "stream",
     "text": [
      "tensor([2, 3, 4, 0])\n"
     ]
    }
   ],
   "source": [
    "# adding constant to a tensor\n",
    "\n",
    "u = torch.tensor([1,2,3,-1])\n",
    "z = u + 1\n",
    "\n",
    "print(z)"
   ]
  },
  {
   "cell_type": "code",
   "execution_count": 69,
   "id": "8ea69d55",
   "metadata": {},
   "outputs": [
    {
     "name": "stdout",
     "output_type": "stream",
     "text": [
      "tensor(0.)\n",
      "tensor(5)\n",
      "3.141592653589793\n",
      "tensor([ 0.0000e+00,  1.0000e+00, -8.7423e-08])\n",
      "tensor([-2., -1.,  0.,  1.,  2.])\n",
      "tensor([-2.0000, -1.5000, -1.0000, -0.5000,  0.0000,  0.5000,  1.0000,  1.5000,\n",
      "         2.0000])\n"
     ]
    }
   ],
   "source": [
    "# functions\n",
    "\n",
    "# universal functions\n",
    "a = torch.tensor([1.0, -1.0, 1.0, -1.0])\n",
    "mean_a = a.mean()\n",
    "print(mean_a)\n",
    "\n",
    "b = torch.tensor([1, -2, 3, 4, 5])\n",
    "max_b = b.max()\n",
    "print(max_b)\n",
    "\n",
    "print(np.pi)\n",
    "x = torch.tensor([0, np.pi/2, np.pi])\n",
    "y = torch.sin(x)\n",
    "print(y)\n",
    "\n",
    "print(torch.linspace(-2, 2, steps=5))\n",
    "print(torch.linspace(-2, 2, steps=9))"
   ]
  },
  {
   "cell_type": "code",
   "execution_count": 70,
   "id": "0f074296",
   "metadata": {},
   "outputs": [
    {
     "ename": "ModuleNotFoundError",
     "evalue": "No module named 'matplotlib.pylot'",
     "output_type": "error",
     "traceback": [
      "\u001b[0;31m---------------------------------------------------------------------------\u001b[0m",
      "\u001b[0;31mModuleNotFoundError\u001b[0m                       Traceback (most recent call last)",
      "Cell \u001b[0;32mIn[70], line 5\u001b[0m\n\u001b[1;32m      2\u001b[0m x \u001b[38;5;241m=\u001b[39m torch\u001b[38;5;241m.\u001b[39mlinspace(\u001b[38;5;241m0\u001b[39m, \u001b[38;5;241m2\u001b[39m\u001b[38;5;241m*\u001b[39mnp\u001b[38;5;241m.\u001b[39mpi, \u001b[38;5;241m100\u001b[39m)\n\u001b[1;32m      3\u001b[0m y \u001b[38;5;241m=\u001b[39m torch\u001b[38;5;241m.\u001b[39msin(x)\n\u001b[0;32m----> 5\u001b[0m \u001b[38;5;28;01mimport\u001b[39;00m \u001b[38;5;21;01mmatplotlib\u001b[39;00m\u001b[38;5;21;01m.\u001b[39;00m\u001b[38;5;21;01mpylot\u001b[39;00m \u001b[38;5;28;01mas\u001b[39;00m \u001b[38;5;21;01mplt\u001b[39;00m\n\u001b[1;32m      6\u001b[0m get_ipython()\u001b[38;5;241m.\u001b[39mrun_line_magic(\u001b[38;5;124m'\u001b[39m\u001b[38;5;124mmatplotlib\u001b[39m\u001b[38;5;124m'\u001b[39m, \u001b[38;5;124m'\u001b[39m\u001b[38;5;124minline\u001b[39m\u001b[38;5;124m'\u001b[39m)\n\u001b[1;32m      7\u001b[0m plt\u001b[38;5;241m.\u001b[39mplot(x\u001b[38;5;241m.\u001b[39mnumpy(), y\u001b[38;5;241m.\u001b[39mnumpy())\n",
      "\u001b[0;31mModuleNotFoundError\u001b[0m: No module named 'matplotlib.pylot'"
     ]
    }
   ],
   "source": [
    "# plotting mathematical functions\n",
    "x = torch.linspace(0, 2*np.pi, 100)\n",
    "y = torch.sin(x)\n",
    "\n",
    "import matplotlib.pyplot as plt\n",
    "%matplotlib inline\n",
    "plt.plot(x.numpy(), y.numpy())"
   ]
  },
  {
   "cell_type": "code",
   "execution_count": null,
   "id": "03cff012",
   "metadata": {},
   "outputs": [],
   "source": []
  }
 ],
 "metadata": {
  "kernelspec": {
   "display_name": "Python 3 (ipykernel)",
   "language": "python",
   "name": "python3"
  },
  "language_info": {
   "codemirror_mode": {
    "name": "ipython",
    "version": 3
   },
   "file_extension": ".py",
   "mimetype": "text/x-python",
   "name": "python",
   "nbconvert_exporter": "python",
   "pygments_lexer": "ipython3",
   "version": "3.10.13"
  }
 },
 "nbformat": 4,
 "nbformat_minor": 5
}
