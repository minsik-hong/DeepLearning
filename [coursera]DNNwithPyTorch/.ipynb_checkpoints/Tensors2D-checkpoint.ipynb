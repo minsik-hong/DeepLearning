{
 "cells": [
  {
   "cell_type": "markdown",
   "id": "d9b167e8",
   "metadata": {},
   "source": [
    "## Table of Contents"
   ]
  },
  {
   "cell_type": "markdown",
   "id": "25eb834d",
   "metadata": {},
   "source": [
    "- Examples of Two Dimensions(2D) Tensors\n",
    "- Tensor Creation in 2D\n",
    "- Indexing and Slicing in 2D\n",
    "- Basic Operations "
   ]
  },
  {
   "cell_type": "markdown",
   "id": "c3e28efa",
   "metadata": {},
   "source": [
    "### Examples of Two Dimensions(2D) Tensors"
   ]
  },
  {
   "cell_type": "code",
   "execution_count": 7,
   "id": "dacc84ef",
   "metadata": {},
   "outputs": [
    {
     "name": "stdout",
     "output_type": "stream",
     "text": [
      "tensor([[11, 12, 13],\n",
      "        [21, 22, 23],\n",
      "        [31, 32, 33]])\n",
      "2\n",
      "torch.Size([3, 3])\n",
      "9\n"
     ]
    }
   ],
   "source": [
    "import torch\n",
    "\n",
    "a = [[11,12,13], [21,22,23], [31,32,33]]\n",
    "\n",
    "A = torch.tensor(a)\n",
    "print(A)\n",
    "print(A.ndimension())\n",
    "print(A.shape)\n",
    "print(A.numel())"
   ]
  },
  {
   "cell_type": "markdown",
   "id": "306460c8",
   "metadata": {},
   "source": [
    "### Basic Operations"
   ]
  },
  {
   "cell_type": "code",
   "execution_count": 8,
   "id": "2d4fec3d",
   "metadata": {},
   "outputs": [
    {
     "name": "stdout",
     "output_type": "stream",
     "text": [
      "tensor([[3, 1],\n",
      "        [1, 3]])\n"
     ]
    }
   ],
   "source": [
    "X = torch.tensor([[1,0],[0,1]])\n",
    "Y = torch.tensor([[2,1],[1,2]])\n",
    "Z = X + Y\n",
    "print(Z)"
   ]
  },
  {
   "cell_type": "code",
   "execution_count": 10,
   "id": "645e8977",
   "metadata": {},
   "outputs": [
    {
     "name": "stdout",
     "output_type": "stream",
     "text": [
      "tensor([[4, 2],\n",
      "        [2, 4]])\n"
     ]
    }
   ],
   "source": [
    "Y = torch.tensor([[2,1],[1,2]])\n",
    "Z = 2*Y\n",
    "print(Z)"
   ]
  },
  {
   "cell_type": "code",
   "execution_count": 11,
   "id": "38a068e0",
   "metadata": {},
   "outputs": [
    {
     "name": "stdout",
     "output_type": "stream",
     "text": [
      "tensor([[2, 0],\n",
      "        [0, 2]])\n"
     ]
    }
   ],
   "source": [
    "Z = X*Y\n",
    "print(Z)"
   ]
  },
  {
   "cell_type": "code",
   "execution_count": 12,
   "id": "ad5a41b6",
   "metadata": {},
   "outputs": [
    {
     "name": "stdout",
     "output_type": "stream",
     "text": [
      "tensor([[0, 2],\n",
      "        [0, 2]])\n"
     ]
    }
   ],
   "source": [
    "A = torch.tensor([[0,1,1],[1,0,1]])\n",
    "B = torch.tensor([[1,1],[1,1],[-1,1]])\n",
    "C = torch.mm(A,B)\n",
    "print(C)"
   ]
  },
  {
   "cell_type": "code",
   "execution_count": null,
   "id": "74e61a2d",
   "metadata": {},
   "outputs": [],
   "source": []
  }
 ],
 "metadata": {
  "kernelspec": {
   "display_name": "Python 3 (ipykernel)",
   "language": "python",
   "name": "python3"
  },
  "language_info": {
   "codemirror_mode": {
    "name": "ipython",
    "version": 3
   },
   "file_extension": ".py",
   "mimetype": "text/x-python",
   "name": "python",
   "nbconvert_exporter": "python",
   "pygments_lexer": "ipython3",
   "version": "3.10.13"
  }
 },
 "nbformat": 4,
 "nbformat_minor": 5
}
