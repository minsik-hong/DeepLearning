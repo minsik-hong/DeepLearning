{
 "cells": [
  {
   "cell_type": "markdown",
   "id": "d2292da6",
   "metadata": {},
   "source": [
    "# 밑바닥 부터 시작하는 딥러닝\n",
    "---"
   ]
  },
  {
   "cell_type": "markdown",
   "id": "aa11ed69",
   "metadata": {},
   "source": [
    "# Chapter 2: 퍼셉트론\n",
    "\n",
    "- 퍼셉트론(perceptron) 알고리즘\n",
    "\n",
    "- 1957년, 프랑크 로젠블라트(Frank Rosenblatt)\n",
    "\n",
    "- 신경망(딥러닝)의 기원이 되는 알고리즘"
   ]
  },
  {
   "cell_type": "markdown",
   "id": "62b586da",
   "metadata": {},
   "source": [
    "## 2.1 퍼셉트론이란?\n",
    "\n",
    "- 퍼셉트론: 다수의 신호(흐름)를 입력으로 받아 하나의 신호를 출력한다.\n",
    "\n",
    "<img src = \"fig2-1.png\" width = \"30%\" height = \"30%\" align=\"left\">  "
   ]
  },
  {
   "cell_type": "markdown",
   "id": "f9fe3532",
   "metadata": {},
   "source": [
    "- 입력 신호 2개: x1, x2\n",
    "- 출력신호: y\n",
    "- 가중치: w1, w2"
   ]
  },
  {
   "cell_type": "markdown",
   "id": "70cf01a4",
   "metadata": {},
   "source": [
    "$\\begin{split}y = \\begin{cases}\n",
    "0 & \\quad (w_1 x_1 + w_2 x_2 <= \\theta) \\\\\n",
    "1 & \\quad (w_1 x_1 + w_2 x_2 > \\theta)\n",
    "\\end{cases}\\end{split}$"
   ]
  },
  {
   "cell_type": "markdown",
   "id": "a084575c",
   "metadata": {},
   "source": [
    "- 신호의 총합이 한계(임계값)를 넘어설 때만 1 출력\n",
    "- 가중치는 각 신호가 결과에 주는 영향력을 조절하는 요소로 작용. 즉, 가중치가 클수록 해당 신호가 그만큼 더 중요하다.\n",
    "    - 가중치(=전류에서 말하는 저항)"
   ]
  },
  {
   "cell_type": "markdown",
   "id": "9aeebc4a",
   "metadata": {},
   "source": [
    "## 2.2 단순한 논리 회로"
   ]
  },
  {
   "cell_type": "markdown",
   "id": "1c8daef8",
   "metadata": {},
   "source": [
    "### 2.2.1 AND 게이트\n",
    "\n",
    "\n",
    "|x1|x2|y|\n",
    "|---|---|---|\n",
    "|0|0|0|\n",
    "|1|0|0|\n",
    "|0|1|0|\n",
    "|1|1|1|\n",
    "\n",
    "- 조건을 충족하는 퍼셉트론 만들기\n",
    "    - w1, w1, theta 값\n",
    "    - ex) (0.5, 0.5, 0.7), (0.5, 0.5, 0.8), (1.0, 1.0, 1.0)"
   ]
  },
  {
   "cell_type": "markdown",
   "id": "4993d21d",
   "metadata": {},
   "source": [
    "### 2.2.2 NAND 게이트와 OR 게이트\n",
    "\n",
    "1. NAND: Not AND\n",
    "|x1|x2|y|\n",
    "|---|---|---|\n",
    "|0|0|1|\n",
    "|1|0|1|\n",
    "|0|1|1|\n",
    "|1|1|0|\n",
    "\n",
    "    - 조건을 충족하는 퍼셉트론 만들기\n",
    "        - w1, w1, theta 값\n",
    "        - ex) (-0.5, -0.5, -0.7), AND게이트의 부호 반전\n",
    "\n",
    "<br/>\n",
    "\n",
    "2. OR\n",
    "|x1|x2|y|\n",
    "|---|---|---|\n",
    "|0|0|0|\n",
    "|1|0|1|\n",
    "|0|1|1|\n",
    "|1|1|1|\n",
    "\n",
    "    - 조건을 충족하는 퍼셉트론 만들기\n",
    "        - w1, w1, theta 값\n",
    "        - ex) (0.5, 0.5, 0.4)"
   ]
  },
  {
   "cell_type": "markdown",
   "id": "451a36a3",
   "metadata": {},
   "source": [
    "> 퍼셉트론의 매개변수 값을 정하는 것은 컴퓨터가 아니라 우리 인간이다. 인간이 직접 진리표라는 '학습 데이터'를 보면서 매개변수의 값을 생각한다. 기계학습 문제는 이 매개변수의 값을 정하는 작업을 컴퓨터가 자동으로 하도록 한다. 학습이란 적절한 매개변수 값을 정하는 작업이며, 사람은 퍼셉트론의 구조(모델)를 고민하고 컴퓨터에 학습할 데이터를 주는 일을 한다."
   ]
  },
  {
   "cell_type": "markdown",
   "id": "22a1f095",
   "metadata": {},
   "source": [
    "## 2.3 퍼셉트론 구현하기"
   ]
  },
  {
   "cell_type": "markdown",
   "id": "77826d0b",
   "metadata": {},
   "source": [
    "### 2.3.1 간단한 구현부터"
   ]
  },
  {
   "cell_type": "code",
   "execution_count": 13,
   "id": "5c9dfed2",
   "metadata": {},
   "outputs": [
    {
     "name": "stdout",
     "output_type": "stream",
     "text": [
      "0\n",
      "0\n",
      "0\n",
      "1\n"
     ]
    }
   ],
   "source": [
    "def AND(x1, x2):\n",
    "    w1, w2, theta = 0.5, 0.5, 0.7\n",
    "    tmp = x1*w1 + x2*w2\n",
    "    if tmp <= theta:\n",
    "        return 0\n",
    "    elif tmp > theta:\n",
    "        return 1\n",
    "\n",
    "print(AND(0, 0)) # 0\n",
    "print(AND(1, 0)) # 0\n",
    "print(AND(0, 1)) # 0\n",
    "print(AND(1, 1)) # 1"
   ]
  },
  {
   "cell_type": "markdown",
   "id": "98e264a9",
   "metadata": {},
   "source": [
    "### 2.3.2 가중치와 편향 도입"
   ]
  },
  {
   "cell_type": "markdown",
   "id": "f915eb64",
   "metadata": {},
   "source": [
    "$\\begin{split}y = \\begin{cases}\n",
    "0 & \\quad (b + w_1 x_1 + w_2 x_2 <= 0) \\\\\n",
    "1 & \\quad (b + w_1 x_1 + w_2 x_2 > 0)\n",
    "\\end{cases}\\end{split}$"
   ]
  },
  {
   "cell_type": "markdown",
   "id": "f28d952f",
   "metadata": {},
   "source": [
    "- theta를 -b로 치환(bias:편향)"
   ]
  },
  {
   "cell_type": "code",
   "execution_count": 22,
   "id": "c3e54865",
   "metadata": {},
   "outputs": [
    {
     "name": "stdout",
     "output_type": "stream",
     "text": [
      "[0.  0.5]\n",
      "0.5\n",
      "-0.19999999999999996\n"
     ]
    }
   ],
   "source": [
    "import numpy as np\n",
    "\n",
    "x = np.array([0, 1]) # 입력\n",
    "w = np.array([0.5, 0.5]) # 가중치\n",
    "b = -0.7 # 편향\n",
    "print(w*x)\n",
    "print(np.sum(x*w))\n",
    "print((np.sum(x*w)+b))"
   ]
  },
  {
   "cell_type": "markdown",
   "id": "7a370627",
   "metadata": {},
   "source": [
    "### 2.3.3 가중치와 편향 구현하기"
   ]
  },
  {
   "cell_type": "code",
   "execution_count": 24,
   "id": "884e9e45",
   "metadata": {},
   "outputs": [
    {
     "name": "stdout",
     "output_type": "stream",
     "text": [
      "0\n",
      "0\n",
      "0\n",
      "1\n"
     ]
    }
   ],
   "source": [
    "def AND(x1, x2):\n",
    "    x = np.array([x1, x2]) # 입력\n",
    "    w = np.array([0.5, 0.5]) # 가중치\n",
    "    b = -0.7\n",
    "    tmp = np.sum(w*x) + b\n",
    "    if tmp <= 0:\n",
    "        return 0\n",
    "    else:\n",
    "        return 1\n",
    "\n",
    "print(AND(0, 0)) # 0\n",
    "print(AND(1, 0)) # 0\n",
    "print(AND(0, 1)) # 0\n",
    "print(AND(1, 1)) # 1"
   ]
  },
  {
   "cell_type": "markdown",
   "id": "1b76739a",
   "metadata": {},
   "source": [
    "- 편향은 가중치(w1, w2)와 기능이 다르다.\n",
    "    - 가중치(w1, w2): 각 입력 신호가 결과에 주는 영향력(중요도)을 조절하는 매개변수\n",
    "    - 편향: 뉴런이 얼마나 쉽게 활성화(결과로 1을 출력)하느냐를 조정하는 매개변수"
   ]
  },
  {
   "cell_type": "code",
   "execution_count": 28,
   "id": "4351152a",
   "metadata": {},
   "outputs": [
    {
     "name": "stdout",
     "output_type": "stream",
     "text": [
      "1\n",
      "1\n",
      "1\n",
      "0\n",
      "0\n",
      "1\n",
      "1\n",
      "1\n"
     ]
    }
   ],
   "source": [
    "import numpy as np \n",
    "\n",
    "def NAND(x1, x2):\n",
    "    x = np.array([x1, x2])\n",
    "    w = np.array([-0.5, -0.5])\n",
    "    b = 0.7\n",
    "    tmp = np.sum(x*w) + b\n",
    "    if tmp <= 0:\n",
    "        return 0\n",
    "    else:\n",
    "        return 1\n",
    "\n",
    "def OR(x1, x2):\n",
    "    x = np.array([x1, x2])\n",
    "    w = np.array([0.5, 0.5])\n",
    "    b = -0.2\n",
    "    tmp = np.sum(x*w) + b\n",
    "    if tmp <= 0:\n",
    "        return 0\n",
    "    else:\n",
    "        return 1\n",
    "\n",
    "print(NAND(0,0)) # 1\n",
    "print(NAND(1,0)) # 1\n",
    "print(NAND(0,1)) # 1\n",
    "print(NAND(1,1)) # 0\n",
    "\n",
    "print(OR(0,0)) # 0\n",
    "print(OR(1,0)) # 1\n",
    "print(OR(0,1)) # 1\n",
    "print(OR(1,1)) # 1"
   ]
  },
  {
   "cell_type": "markdown",
   "id": "8b43f042",
   "metadata": {},
   "source": [
    "- AND, NAND, OR은 모두 같은 구조의 퍼셉트론\n",
    "- 차이는 가중치 매개변수 값 뿐이다."
   ]
  },
  {
   "cell_type": "markdown",
   "id": "f4a143e5",
   "metadata": {},
   "source": [
    "## 2.4 퍼셉트론의 한계"
   ]
  },
  {
   "cell_type": "markdown",
   "id": "92ea8240",
   "metadata": {},
   "source": [
    "### 2.4.1 도전! XOR 게이트"
   ]
  },
  {
   "cell_type": "markdown",
   "id": "686d4af2",
   "metadata": {},
   "source": [
    "- XOR 게이트: 베타적 논리 합\n",
    "\n",
    "|x1|x2|y|\n",
    "|---|---|---|\n",
    "|0|0|0|\n",
    "|1|0|1|\n",
    "|0|1|1|\n",
    "|1|1|0|\n",
    "\n",
    "    - x1, x2 중 한쪽이 1일 때만 1을 출력"
   ]
  }
 ],
 "metadata": {
  "kernelspec": {
   "display_name": "Python 3 (ipykernel)",
   "language": "python",
   "name": "python3"
  },
  "language_info": {
   "codemirror_mode": {
    "name": "ipython",
    "version": 3
   },
   "file_extension": ".py",
   "mimetype": "text/x-python",
   "name": "python",
   "nbconvert_exporter": "python",
   "pygments_lexer": "ipython3",
   "version": "3.10.13"
  }
 },
 "nbformat": 4,
 "nbformat_minor": 5
}
